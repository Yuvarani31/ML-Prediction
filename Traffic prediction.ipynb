{
 "cells": [
  {
   "cell_type": "code",
   "execution_count": 218,
   "id": "24bf3116",
   "metadata": {},
   "outputs": [
    {
     "data": {
      "text/html": [
       "<div>\n",
       "<style scoped>\n",
       "    .dataframe tbody tr th:only-of-type {\n",
       "        vertical-align: middle;\n",
       "    }\n",
       "\n",
       "    .dataframe tbody tr th {\n",
       "        vertical-align: top;\n",
       "    }\n",
       "\n",
       "    .dataframe thead th {\n",
       "        text-align: right;\n",
       "    }\n",
       "</style>\n",
       "<table border=\"1\" class=\"dataframe\">\n",
       "  <thead>\n",
       "    <tr style=\"text-align: right;\">\n",
       "      <th></th>\n",
       "      <th>Date</th>\n",
       "      <th>Day</th>\n",
       "      <th>Destination_Location</th>\n",
       "      <th>Fastest_Route_Distance</th>\n",
       "      <th>Fastest_Route_Name</th>\n",
       "      <th>Fastest_Route_Time</th>\n",
       "      <th>Holiday</th>\n",
       "      <th>Special_Condition</th>\n",
       "      <th>Starting_Location</th>\n",
       "      <th>Sys_Time</th>\n",
       "      <th>Weather</th>\n",
       "      <th>Data_prediction</th>\n",
       "    </tr>\n",
       "  </thead>\n",
       "  <tbody>\n",
       "    <tr>\n",
       "      <th>0</th>\n",
       "      <td>13/02/2020</td>\n",
       "      <td>Thursday</td>\n",
       "      <td>9th_avenue</td>\n",
       "      <td>1000</td>\n",
       "      <td>Jinnah Avenue</td>\n",
       "      <td>60</td>\n",
       "      <td>no</td>\n",
       "      <td>no</td>\n",
       "      <td>capital_gymkhana</td>\n",
       "      <td>00:00:01</td>\n",
       "      <td>Showers</td>\n",
       "      <td>smooth</td>\n",
       "    </tr>\n",
       "    <tr>\n",
       "      <th>1</th>\n",
       "      <td>13/02/2020</td>\n",
       "      <td>Thursday</td>\n",
       "      <td>centaurus</td>\n",
       "      <td>1300</td>\n",
       "      <td>Jinnah Avenue</td>\n",
       "      <td>120</td>\n",
       "      <td>no</td>\n",
       "      <td>no</td>\n",
       "      <td>9th_avenue</td>\n",
       "      <td>00:00:09</td>\n",
       "      <td>Showers</td>\n",
       "      <td>highly congested</td>\n",
       "    </tr>\n",
       "    <tr>\n",
       "      <th>2</th>\n",
       "      <td>13/02/2020</td>\n",
       "      <td>Thursday</td>\n",
       "      <td>crown_plaza</td>\n",
       "      <td>1000</td>\n",
       "      <td>Jinnah Avenue and Faisal Avenue Flyover</td>\n",
       "      <td>60</td>\n",
       "      <td>no</td>\n",
       "      <td>no</td>\n",
       "      <td>centaurus</td>\n",
       "      <td>00:00:17</td>\n",
       "      <td>Showers</td>\n",
       "      <td>smooth</td>\n",
       "    </tr>\n",
       "    <tr>\n",
       "      <th>3</th>\n",
       "      <td>13/02/2020</td>\n",
       "      <td>Thursday</td>\n",
       "      <td>roshan_plaza</td>\n",
       "      <td>2700</td>\n",
       "      <td>Jinnah Ave</td>\n",
       "      <td>180</td>\n",
       "      <td>no</td>\n",
       "      <td>no</td>\n",
       "      <td>crown_plaza</td>\n",
       "      <td>00:00:24</td>\n",
       "      <td>Showers</td>\n",
       "      <td>smooth</td>\n",
       "    </tr>\n",
       "    <tr>\n",
       "      <th>4</th>\n",
       "      <td>13/02/2020</td>\n",
       "      <td>Thursday</td>\n",
       "      <td>salt_and_pepper</td>\n",
       "      <td>3900</td>\n",
       "      <td>Jinnah Ave</td>\n",
       "      <td>300</td>\n",
       "      <td>no</td>\n",
       "      <td>no</td>\n",
       "      <td>roshan_plaza</td>\n",
       "      <td>00:00:31</td>\n",
       "      <td>Showers</td>\n",
       "      <td>slightly congested</td>\n",
       "    </tr>\n",
       "  </tbody>\n",
       "</table>\n",
       "</div>"
      ],
      "text/plain": [
       "         Date       Day Destination_Location  Fastest_Route_Distance  \\\n",
       "0  13/02/2020  Thursday           9th_avenue                    1000   \n",
       "1  13/02/2020  Thursday            centaurus                    1300   \n",
       "2  13/02/2020  Thursday          crown_plaza                    1000   \n",
       "3  13/02/2020  Thursday         roshan_plaza                    2700   \n",
       "4  13/02/2020  Thursday      salt_and_pepper                    3900   \n",
       "\n",
       "                        Fastest_Route_Name  Fastest_Route_Time Holiday  \\\n",
       "0                            Jinnah Avenue                  60      no   \n",
       "1                            Jinnah Avenue                 120      no   \n",
       "2  Jinnah Avenue and Faisal Avenue Flyover                  60      no   \n",
       "3                               Jinnah Ave                 180      no   \n",
       "4                               Jinnah Ave                 300      no   \n",
       "\n",
       "  Special_Condition Starting_Location  Sys_Time  Weather     Data_prediction  \n",
       "0                no  capital_gymkhana  00:00:01  Showers              smooth  \n",
       "1                no        9th_avenue  00:00:09  Showers    highly congested  \n",
       "2                no         centaurus  00:00:17  Showers              smooth  \n",
       "3                no       crown_plaza  00:00:24  Showers              smooth  \n",
       "4                no      roshan_plaza  00:00:31  Showers  slightly congested  "
      ]
     },
     "execution_count": 218,
     "metadata": {},
     "output_type": "execute_result"
    }
   ],
   "source": [
    "import pandas as pd\n",
    "import numpy as np\n",
    "import seaborn as sns\n",
    "import matplotlib.pyplot as plt\n",
    "import warnings\n",
    "warnings.filterwarnings('ignore')\n",
    "from sklearn.model_selection import train_test_split\n",
    "data=pd.read_csv(\"traffic.csv\")\n",
    "data.head()"
   ]
  },
  {
   "cell_type": "code",
   "execution_count": 219,
   "id": "20b38fc5",
   "metadata": {},
   "outputs": [
    {
     "data": {
      "text/html": [
       "<div>\n",
       "<style scoped>\n",
       "    .dataframe tbody tr th:only-of-type {\n",
       "        vertical-align: middle;\n",
       "    }\n",
       "\n",
       "    .dataframe tbody tr th {\n",
       "        vertical-align: top;\n",
       "    }\n",
       "\n",
       "    .dataframe thead th {\n",
       "        text-align: right;\n",
       "    }\n",
       "</style>\n",
       "<table border=\"1\" class=\"dataframe\">\n",
       "  <thead>\n",
       "    <tr style=\"text-align: right;\">\n",
       "      <th></th>\n",
       "      <th>Fastest_Route_Distance</th>\n",
       "      <th>Fastest_Route_Time</th>\n",
       "    </tr>\n",
       "  </thead>\n",
       "  <tbody>\n",
       "    <tr>\n",
       "      <th>count</th>\n",
       "      <td>16388.000000</td>\n",
       "      <td>16388.000000</td>\n",
       "    </tr>\n",
       "    <tr>\n",
       "      <th>mean</th>\n",
       "      <td>1608.768611</td>\n",
       "      <td>150.915304</td>\n",
       "    </tr>\n",
       "    <tr>\n",
       "      <th>std</th>\n",
       "      <td>853.399148</td>\n",
       "      <td>80.324398</td>\n",
       "    </tr>\n",
       "    <tr>\n",
       "      <th>min</th>\n",
       "      <td>1000.000000</td>\n",
       "      <td>60.000000</td>\n",
       "    </tr>\n",
       "    <tr>\n",
       "      <th>25%</th>\n",
       "      <td>1000.000000</td>\n",
       "      <td>120.000000</td>\n",
       "    </tr>\n",
       "    <tr>\n",
       "      <th>50%</th>\n",
       "      <td>1200.000000</td>\n",
       "      <td>120.000000</td>\n",
       "    </tr>\n",
       "    <tr>\n",
       "      <th>75%</th>\n",
       "      <td>2100.000000</td>\n",
       "      <td>180.000000</td>\n",
       "    </tr>\n",
       "    <tr>\n",
       "      <th>max</th>\n",
       "      <td>3900.000000</td>\n",
       "      <td>480.000000</td>\n",
       "    </tr>\n",
       "  </tbody>\n",
       "</table>\n",
       "</div>"
      ],
      "text/plain": [
       "       Fastest_Route_Distance  Fastest_Route_Time\n",
       "count            16388.000000        16388.000000\n",
       "mean              1608.768611          150.915304\n",
       "std                853.399148           80.324398\n",
       "min               1000.000000           60.000000\n",
       "25%               1000.000000          120.000000\n",
       "50%               1200.000000          120.000000\n",
       "75%               2100.000000          180.000000\n",
       "max               3900.000000          480.000000"
      ]
     },
     "execution_count": 219,
     "metadata": {},
     "output_type": "execute_result"
    }
   ],
   "source": [
    "data.describe()"
   ]
  },
  {
   "cell_type": "code",
   "execution_count": 220,
   "id": "6a032f66",
   "metadata": {},
   "outputs": [
    {
     "name": "stdout",
     "output_type": "stream",
     "text": [
      "<class 'pandas.core.frame.DataFrame'>\n",
      "RangeIndex: 16388 entries, 0 to 16387\n",
      "Data columns (total 12 columns):\n",
      " #   Column                  Non-Null Count  Dtype \n",
      "---  ------                  --------------  ----- \n",
      " 0   Date                    16388 non-null  object\n",
      " 1   Day                     16388 non-null  object\n",
      " 2   Destination_Location    16388 non-null  object\n",
      " 3   Fastest_Route_Distance  16388 non-null  int64 \n",
      " 4   Fastest_Route_Name      16388 non-null  object\n",
      " 5   Fastest_Route_Time      16388 non-null  int64 \n",
      " 6   Holiday                 16388 non-null  object\n",
      " 7   Special_Condition       16388 non-null  object\n",
      " 8   Starting_Location       16388 non-null  object\n",
      " 9   Sys_Time                16388 non-null  object\n",
      " 10  Weather                 16388 non-null  object\n",
      " 11  Data_prediction         16388 non-null  object\n",
      "dtypes: int64(2), object(10)\n",
      "memory usage: 1.5+ MB\n"
     ]
    }
   ],
   "source": [
    "data.info()"
   ]
  },
  {
   "cell_type": "code",
   "execution_count": 221,
   "id": "5299e2ad",
   "metadata": {},
   "outputs": [
    {
     "data": {
      "text/plain": [
       "Index(['Date', 'Day', 'Destination_Location', 'Fastest_Route_Distance',\n",
       "       'Fastest_Route_Name', 'Fastest_Route_Time', 'Holiday',\n",
       "       'Special_Condition', 'Starting_Location', 'Sys_Time', 'Weather',\n",
       "       'Data_prediction'],\n",
       "      dtype='object')"
      ]
     },
     "execution_count": 221,
     "metadata": {},
     "output_type": "execute_result"
    }
   ],
   "source": [
    "data.columns"
   ]
  },
  {
   "cell_type": "code",
   "execution_count": 222,
   "id": "ac4d4357",
   "metadata": {},
   "outputs": [
    {
     "data": {
      "text/plain": [
       "(16388, 12)"
      ]
     },
     "execution_count": 222,
     "metadata": {},
     "output_type": "execute_result"
    }
   ],
   "source": [
    "data.shape"
   ]
  },
  {
   "cell_type": "code",
   "execution_count": 223,
   "id": "5de70c9d",
   "metadata": {},
   "outputs": [
    {
     "data": {
      "text/plain": [
       "<AxesSubplot:xlabel='Data_prediction', ylabel='count'>"
      ]
     },
     "execution_count": 223,
     "metadata": {},
     "output_type": "execute_result"
    },
    {
     "data": {
      "image/png": "[encoded data removed]",
      "text/plain": [
       "<Figure size 720x576 with 1 Axes>"
      ]
     },
     "metadata": {
      "needs_background": "light"
     },
     "output_type": "display_data"
    }
   ],
   "source": [
    "plt.rcParams['figure.figsize']=(10,8)\n",
    "sns.countplot(data=data,x=\"Data_prediction\")\n"
   ]
  },
  {
   "cell_type": "code",
   "execution_count": 224,
   "id": "1c2da1ac",
   "metadata": {},
   "outputs": [
    {
     "data": {
      "text/plain": [
       "<AxesSubplot:>"
      ]
     },
     "execution_count": 224,
     "metadata": {},
     "output_type": "execute_result"
    },
    {
     "data": {
      "image/png": "[encoded data removed]",
      "text/plain": [
       "<Figure size 720x576 with 2 Axes>"
      ]
     },
     "metadata": {
      "needs_background": "light"
     },
     "output_type": "display_data"
    }
   ],
   "source": [
    "corrmat=data.corr()\n",
    "sns.heatmap(corrmat,annot=True,cmap=\"inferno\",square=True)"
   ]
  },
  {
   "cell_type": "code",
   "execution_count": 225,
   "id": "278578d0",
   "metadata": {},
   "outputs": [
    {
     "data": {
      "text/plain": [
       "<matplotlib.legend.Legend at 0x28cd5f26c40>"
      ]
     },
     "execution_count": 225,
     "metadata": {},
     "output_type": "execute_result"
    },
    {
     "data": {
      "image/png": "[encoded data removed]",
      "text/plain": [
       "<Figure size 720x576 with 1 Axes>"
      ]
     },
     "metadata": {
      "needs_background": "light"
     },
     "output_type": "display_data"
    }
   ],
   "source": [
    "vplt1=sns.barplot(data=data,x=\"Fastest_Route_Distance\",y=\"Fastest_Route_Distance\",hue=\"Data_prediction\")\n",
    "vplt1.legend(bbox_to_anchor=(1,1),loc=\"upper left\")"
   ]
  },
  {
   "cell_type": "code",
   "execution_count": 226,
   "id": "97fdc0eb",
   "metadata": {},
   "outputs": [
    {
     "data": {
      "text/plain": [
       "<AxesSubplot:xlabel='Fastest_Route_Distance', ylabel='Count'>"
      ]
     },
     "execution_count": 226,
     "metadata": {},
     "output_type": "execute_result"
    },
    {
     "data": {
      "image/png": "[encoded data removed]",
      "text/plain": [
       "<Figure size 720x576 with 1 Axes>"
      ]
     },
     "metadata": {
      "needs_background": "light"
     },
     "output_type": "display_data"
    }
   ],
   "source": [
    "sns.histplot(data=data,x=\"Fastest_Route_Distance\")"
   ]
  },
  {
   "cell_type": "code",
   "execution_count": 227,
   "id": "88b405c4",
   "metadata": {},
   "outputs": [
    {
     "data": {
      "text/plain": [
       "Date                      0\n",
       "Day                       0\n",
       "Destination_Location      0\n",
       "Fastest_Route_Distance    0\n",
       "Fastest_Route_Name        0\n",
       "Fastest_Route_Time        0\n",
       "Holiday                   0\n",
       "Special_Condition         0\n",
       "Starting_Location         0\n",
       "Sys_Time                  0\n",
       "Weather                   0\n",
       "Data_prediction           0\n",
       "dtype: int64"
      ]
     },
     "execution_count": 227,
     "metadata": {},
     "output_type": "execute_result"
    }
   ],
   "source": [
    "data.isnull().sum()"
   ]
  },
  {
   "cell_type": "code",
   "execution_count": 228,
   "id": "d1ec42f5",
   "metadata": {},
   "outputs": [
    {
     "data": {
      "text/plain": [
       "array(['Thursday', 'Friday', 'Saturday', 'Sunday', 'Monday', 'Tuesday',\n",
       "       'Wednesday'], dtype=object)"
      ]
     },
     "execution_count": 228,
     "metadata": {},
     "output_type": "execute_result"
    }
   ],
   "source": [
    "data[\"Day\"].unique()"
   ]
  },
  {
   "cell_type": "code",
   "execution_count": 229,
   "id": "0fec402c",
   "metadata": {},
   "outputs": [],
   "source": [
    "data[\"Day\"].replace(['Thursday', 'Friday', 'Saturday', 'Sunday', 'Monday', 'Tuesday',\n",
    "                          'Wednesday'],[0,1,2,3,4,5,6,],inplace=True)"
   ]
  },
  {
   "cell_type": "code",
   "execution_count": 230,
   "id": "5b265743",
   "metadata": {},
   "outputs": [
    {
     "data": {
      "text/plain": [
       "array(['9th_avenue', 'centaurus', 'crown_plaza', 'roshan_plaza',\n",
       "       'salt_and_pepper', 'bar_bq_tonight', 'D_chowk', 'childrens_park',\n",
       "       'pak_turk_maarif_international_school', 'jamia_masjid',\n",
       "       'missile_chowk', 'capital_gymkhana'], dtype=object)"
      ]
     },
     "execution_count": 230,
     "metadata": {},
     "output_type": "execute_result"
    }
   ],
   "source": [
    "data[\"Destination_Location\"].unique()"
   ]
  },
  {
   "cell_type": "code",
   "execution_count": 231,
   "id": "f30fac78",
   "metadata": {},
   "outputs": [],
   "source": [
    "data[\"Destination_Location\"].replace(['9th_avenue', 'centaurus', 'crown_plaza', 'roshan_plaza',\n",
    "       'salt_and_pepper', 'bar_bq_tonight', 'D_chowk', 'childrens_park',\n",
    "       'pak_turk_maarif_international_school', 'jamia_masjid',\n",
    "       'missile_chowk', 'capital_gymkhana'],[0,1,2,3,4,5,6,7,8,9,10,11],inplace=True)"
   ]
  },
  {
   "cell_type": "code",
   "execution_count": 232,
   "id": "aff891a7",
   "metadata": {},
   "outputs": [
    {
     "data": {
      "text/plain": [
       "array(['Jinnah Avenue', 'Jinnah Avenue and Faisal Avenue Flyover',\n",
       "       'Jinnah Ave', 'A.K. Fazl-ul-Haq Rd and Jinnah Ave',\n",
       "       'Nazim-ud-din Rd', 'Nazim-ud-din Rd and Jinnah Ave',\n",
       "       'A.K. Fazl-ul-Haq Rd'], dtype=object)"
      ]
     },
     "execution_count": 232,
     "metadata": {},
     "output_type": "execute_result"
    }
   ],
   "source": [
    "data[\"Fastest_Route_Name\"].unique()"
   ]
  },
  {
   "cell_type": "code",
   "execution_count": 233,
   "id": "4b2e0b1a",
   "metadata": {},
   "outputs": [],
   "source": [
    "data[\"Fastest_Route_Name\"].replace(['Jinnah Avenue', 'Jinnah Avenue and Faisal Avenue Flyover',\n",
    "       'Jinnah Ave', 'A.K. Fazl-ul-Haq Rd and Jinnah Ave',\n",
    "       'Nazim-ud-din Rd', 'Nazim-ud-din Rd and Jinnah Ave',\n",
    "       'A.K. Fazl-ul-Haq Rd'],[0,1,2,3,4,5,6],inplace=True)"
   ]
  },
  {
   "cell_type": "code",
   "execution_count": 234,
   "id": "f4e351a1",
   "metadata": {},
   "outputs": [
    {
     "data": {
      "text/plain": [
       "array(['capital_gymkhana', '9th_avenue', 'centaurus', 'crown_plaza',\n",
       "       'roshan_plaza', 'salt_and_pepper', 'bar_bq_tonight',\n",
       "       'bahria_foundation_school', 'childrens_park',\n",
       "       'pak_turk_maarif_international_school', 'jamia_masjid',\n",
       "       'missile_chowk'], dtype=object)"
      ]
     },
     "execution_count": 234,
     "metadata": {},
     "output_type": "execute_result"
    }
   ],
   "source": [
    "data[\"Starting_Location\"].unique()"
   ]
  },
  {
   "cell_type": "code",
   "execution_count": 235,
   "id": "a02f1c3a",
   "metadata": {},
   "outputs": [],
   "source": [
    "data[\"Starting_Location\"].replace(['capital_gymkhana', '9th_avenue', 'centaurus', 'crown_plaza',\n",
    "       'roshan_plaza', 'salt_and_pepper', 'bar_bq_tonight',\n",
    "       'bahria_foundation_school', 'childrens_park',\n",
    "       'pak_turk_maarif_international_school', 'jamia_masjid',\n",
    "       'missile_chowk'],[0,1,2,3,4,5,6,7,8,9,10,11],inplace=True)"
   ]
  },
  {
   "cell_type": "code",
   "execution_count": 236,
   "id": "3ef866a5",
   "metadata": {},
   "outputs": [
    {
     "data": {
      "text/html": [
       "<div>\n",
       "<style scoped>\n",
       "    .dataframe tbody tr th:only-of-type {\n",
       "        vertical-align: middle;\n",
       "    }\n",
       "\n",
       "    .dataframe tbody tr th {\n",
       "        vertical-align: top;\n",
       "    }\n",
       "\n",
       "    .dataframe thead th {\n",
       "        text-align: right;\n",
       "    }\n",
       "</style>\n",
       "<table border=\"1\" class=\"dataframe\">\n",
       "  <thead>\n",
       "    <tr style=\"text-align: right;\">\n",
       "      <th></th>\n",
       "      <th>Date</th>\n",
       "      <th>Day</th>\n",
       "      <th>Destination_Location</th>\n",
       "      <th>Fastest_Route_Distance</th>\n",
       "      <th>Fastest_Route_Name</th>\n",
       "      <th>Fastest_Route_Time</th>\n",
       "      <th>Holiday</th>\n",
       "      <th>Special_Condition</th>\n",
       "      <th>Starting_Location</th>\n",
       "      <th>Sys_Time</th>\n",
       "      <th>Weather</th>\n",
       "      <th>Data_prediction</th>\n",
       "    </tr>\n",
       "  </thead>\n",
       "  <tbody>\n",
       "    <tr>\n",
       "      <th>0</th>\n",
       "      <td>13/02/2020</td>\n",
       "      <td>0</td>\n",
       "      <td>0</td>\n",
       "      <td>1000</td>\n",
       "      <td>0</td>\n",
       "      <td>60</td>\n",
       "      <td>no</td>\n",
       "      <td>no</td>\n",
       "      <td>0</td>\n",
       "      <td>00:00:01</td>\n",
       "      <td>Showers</td>\n",
       "      <td>smooth</td>\n",
       "    </tr>\n",
       "    <tr>\n",
       "      <th>1</th>\n",
       "      <td>13/02/2020</td>\n",
       "      <td>0</td>\n",
       "      <td>1</td>\n",
       "      <td>1300</td>\n",
       "      <td>0</td>\n",
       "      <td>120</td>\n",
       "      <td>no</td>\n",
       "      <td>no</td>\n",
       "      <td>1</td>\n",
       "      <td>00:00:09</td>\n",
       "      <td>Showers</td>\n",
       "      <td>highly congested</td>\n",
       "    </tr>\n",
       "    <tr>\n",
       "      <th>2</th>\n",
       "      <td>13/02/2020</td>\n",
       "      <td>0</td>\n",
       "      <td>2</td>\n",
       "      <td>1000</td>\n",
       "      <td>1</td>\n",
       "      <td>60</td>\n",
       "      <td>no</td>\n",
       "      <td>no</td>\n",
       "      <td>2</td>\n",
       "      <td>00:00:17</td>\n",
       "      <td>Showers</td>\n",
       "      <td>smooth</td>\n",
       "    </tr>\n",
       "    <tr>\n",
       "      <th>3</th>\n",
       "      <td>13/02/2020</td>\n",
       "      <td>0</td>\n",
       "      <td>3</td>\n",
       "      <td>2700</td>\n",
       "      <td>2</td>\n",
       "      <td>180</td>\n",
       "      <td>no</td>\n",
       "      <td>no</td>\n",
       "      <td>3</td>\n",
       "      <td>00:00:24</td>\n",
       "      <td>Showers</td>\n",
       "      <td>smooth</td>\n",
       "    </tr>\n",
       "    <tr>\n",
       "      <th>4</th>\n",
       "      <td>13/02/2020</td>\n",
       "      <td>0</td>\n",
       "      <td>4</td>\n",
       "      <td>3900</td>\n",
       "      <td>2</td>\n",
       "      <td>300</td>\n",
       "      <td>no</td>\n",
       "      <td>no</td>\n",
       "      <td>4</td>\n",
       "      <td>00:00:31</td>\n",
       "      <td>Showers</td>\n",
       "      <td>slightly congested</td>\n",
       "    </tr>\n",
       "  </tbody>\n",
       "</table>\n",
       "</div>"
      ],
      "text/plain": [
       "         Date  Day  Destination_Location  Fastest_Route_Distance  \\\n",
       "0  13/02/2020    0                     0                    1000   \n",
       "1  13/02/2020    0                     1                    1300   \n",
       "2  13/02/2020    0                     2                    1000   \n",
       "3  13/02/2020    0                     3                    2700   \n",
       "4  13/02/2020    0                     4                    3900   \n",
       "\n",
       "   Fastest_Route_Name  Fastest_Route_Time Holiday Special_Condition  \\\n",
       "0                   0                  60      no                no   \n",
       "1                   0                 120      no                no   \n",
       "2                   1                  60      no                no   \n",
       "3                   2                 180      no                no   \n",
       "4                   2                 300      no                no   \n",
       "\n",
       "   Starting_Location  Sys_Time  Weather     Data_prediction  \n",
       "0                  0  00:00:01  Showers              smooth  \n",
       "1                  1  00:00:09  Showers    highly congested  \n",
       "2                  2  00:00:17  Showers              smooth  \n",
       "3                  3  00:00:24  Showers              smooth  \n",
       "4                  4  00:00:31  Showers  slightly congested  "
      ]
     },
     "execution_count": 236,
     "metadata": {},
     "output_type": "execute_result"
    }
   ],
   "source": [
    "data.head()"
   ]
  },
  {
   "cell_type": "code",
   "execution_count": 237,
   "id": "6ac2b41f",
   "metadata": {},
   "outputs": [],
   "source": [
    "data=data.drop([\"Holiday\",\"Special_Condition\",\"Sys_Time\"],1)"
   ]
  },
  {
   "cell_type": "code",
   "execution_count": 238,
   "id": "6f18d3ec",
   "metadata": {},
   "outputs": [
    {
     "data": {
      "text/html": [
       "<div>\n",
       "<style scoped>\n",
       "    .dataframe tbody tr th:only-of-type {\n",
       "        vertical-align: middle;\n",
       "    }\n",
       "\n",
       "    .dataframe tbody tr th {\n",
       "        vertical-align: top;\n",
       "    }\n",
       "\n",
       "    .dataframe thead th {\n",
       "        text-align: right;\n",
       "    }\n",
       "</style>\n",
       "<table border=\"1\" class=\"dataframe\">\n",
       "  <thead>\n",
       "    <tr style=\"text-align: right;\">\n",
       "      <th></th>\n",
       "      <th>Date</th>\n",
       "      <th>Day</th>\n",
       "      <th>Destination_Location</th>\n",
       "      <th>Fastest_Route_Distance</th>\n",
       "      <th>Fastest_Route_Name</th>\n",
       "      <th>Fastest_Route_Time</th>\n",
       "      <th>Starting_Location</th>\n",
       "      <th>Weather</th>\n",
       "      <th>Data_prediction</th>\n",
       "    </tr>\n",
       "  </thead>\n",
       "  <tbody>\n",
       "    <tr>\n",
       "      <th>0</th>\n",
       "      <td>13/02/2020</td>\n",
       "      <td>0</td>\n",
       "      <td>0</td>\n",
       "      <td>1000</td>\n",
       "      <td>0</td>\n",
       "      <td>60</td>\n",
       "      <td>0</td>\n",
       "      <td>Showers</td>\n",
       "      <td>smooth</td>\n",
       "    </tr>\n",
       "    <tr>\n",
       "      <th>1</th>\n",
       "      <td>13/02/2020</td>\n",
       "      <td>0</td>\n",
       "      <td>1</td>\n",
       "      <td>1300</td>\n",
       "      <td>0</td>\n",
       "      <td>120</td>\n",
       "      <td>1</td>\n",
       "      <td>Showers</td>\n",
       "      <td>highly congested</td>\n",
       "    </tr>\n",
       "    <tr>\n",
       "      <th>2</th>\n",
       "      <td>13/02/2020</td>\n",
       "      <td>0</td>\n",
       "      <td>2</td>\n",
       "      <td>1000</td>\n",
       "      <td>1</td>\n",
       "      <td>60</td>\n",
       "      <td>2</td>\n",
       "      <td>Showers</td>\n",
       "      <td>smooth</td>\n",
       "    </tr>\n",
       "    <tr>\n",
       "      <th>3</th>\n",
       "      <td>13/02/2020</td>\n",
       "      <td>0</td>\n",
       "      <td>3</td>\n",
       "      <td>2700</td>\n",
       "      <td>2</td>\n",
       "      <td>180</td>\n",
       "      <td>3</td>\n",
       "      <td>Showers</td>\n",
       "      <td>smooth</td>\n",
       "    </tr>\n",
       "    <tr>\n",
       "      <th>4</th>\n",
       "      <td>13/02/2020</td>\n",
       "      <td>0</td>\n",
       "      <td>4</td>\n",
       "      <td>3900</td>\n",
       "      <td>2</td>\n",
       "      <td>300</td>\n",
       "      <td>4</td>\n",
       "      <td>Showers</td>\n",
       "      <td>slightly congested</td>\n",
       "    </tr>\n",
       "  </tbody>\n",
       "</table>\n",
       "</div>"
      ],
      "text/plain": [
       "         Date  Day  Destination_Location  Fastest_Route_Distance  \\\n",
       "0  13/02/2020    0                     0                    1000   \n",
       "1  13/02/2020    0                     1                    1300   \n",
       "2  13/02/2020    0                     2                    1000   \n",
       "3  13/02/2020    0                     3                    2700   \n",
       "4  13/02/2020    0                     4                    3900   \n",
       "\n",
       "   Fastest_Route_Name  Fastest_Route_Time  Starting_Location  Weather  \\\n",
       "0                   0                  60                  0  Showers   \n",
       "1                   0                 120                  1  Showers   \n",
       "2                   1                  60                  2  Showers   \n",
       "3                   2                 180                  3  Showers   \n",
       "4                   2                 300                  4  Showers   \n",
       "\n",
       "      Data_prediction  \n",
       "0              smooth  \n",
       "1    highly congested  \n",
       "2              smooth  \n",
       "3              smooth  \n",
       "4  slightly congested  "
      ]
     },
     "execution_count": 238,
     "metadata": {},
     "output_type": "execute_result"
    }
   ],
   "source": [
    "data.head()"
   ]
  },
  {
   "cell_type": "code",
   "execution_count": 239,
   "id": "50513ac4",
   "metadata": {},
   "outputs": [
    {
     "data": {
      "text/plain": [
       "array(['Showers', 'Cloudy', 'Mostly Cloudy', 'Sunny', 'Mostly Sunny',\n",
       "       'Clear', 'Partly Cloudy', 'Mostly Clear', 'Rain'], dtype=object)"
      ]
     },
     "execution_count": 239,
     "metadata": {},
     "output_type": "execute_result"
    }
   ],
   "source": [
    "data[\"Weather\"].unique()"
   ]
  },
  {
   "cell_type": "code",
   "execution_count": 240,
   "id": "b2ecb12f",
   "metadata": {},
   "outputs": [],
   "source": [
    "data[\"Weather\"].replace(['Showers', 'Cloudy', 'Mostly Cloudy', 'Sunny', 'Mostly Sunny',\n",
    "       'Clear', 'Partly Cloudy', 'Mostly Clear', 'Rain'],[0,1,2,3,4,5,6,7,8],inplace=True)"
   ]
  },
  {
   "cell_type": "code",
   "execution_count": 241,
   "id": "7ba8e3f6",
   "metadata": {},
   "outputs": [
    {
     "data": {
      "text/plain": [
       "array(['smooth', 'highly congested', 'slightly congested', 'congested',\n",
       "       'blockage'], dtype=object)"
      ]
     },
     "execution_count": 241,
     "metadata": {},
     "output_type": "execute_result"
    }
   ],
   "source": [
    "data[\"Data_prediction\"].unique()"
   ]
  },
  {
   "cell_type": "code",
   "execution_count": 242,
   "id": "a9b5219d",
   "metadata": {},
   "outputs": [],
   "source": [
    "data[\"Data_prediction\"].replace(['smooth', 'highly congested', 'slightly congested', 'congested',\n",
    "       'blockage'],[0,1,2,3,4],inplace=True)"
   ]
  },
  {
   "cell_type": "code",
   "execution_count": 243,
   "id": "91f8b2d3",
   "metadata": {},
   "outputs": [
    {
     "data": {
      "text/html": [
       "<div>\n",
       "<style scoped>\n",
       "    .dataframe tbody tr th:only-of-type {\n",
       "        vertical-align: middle;\n",
       "    }\n",
       "\n",
       "    .dataframe tbody tr th {\n",
       "        vertical-align: top;\n",
       "    }\n",
       "\n",
       "    .dataframe thead th {\n",
       "        text-align: right;\n",
       "    }\n",
       "</style>\n",
       "<table border=\"1\" class=\"dataframe\">\n",
       "  <thead>\n",
       "    <tr style=\"text-align: right;\">\n",
       "      <th></th>\n",
       "      <th>Date</th>\n",
       "      <th>Day</th>\n",
       "      <th>Destination_Location</th>\n",
       "      <th>Fastest_Route_Distance</th>\n",
       "      <th>Fastest_Route_Name</th>\n",
       "      <th>Fastest_Route_Time</th>\n",
       "      <th>Starting_Location</th>\n",
       "      <th>Weather</th>\n",
       "      <th>Data_prediction</th>\n",
       "    </tr>\n",
       "  </thead>\n",
       "  <tbody>\n",
       "    <tr>\n",
       "      <th>0</th>\n",
       "      <td>13/02/2020</td>\n",
       "      <td>0</td>\n",
       "      <td>0</td>\n",
       "      <td>1000</td>\n",
       "      <td>0</td>\n",
       "      <td>60</td>\n",
       "      <td>0</td>\n",
       "      <td>0</td>\n",
       "      <td>0</td>\n",
       "    </tr>\n",
       "    <tr>\n",
       "      <th>1</th>\n",
       "      <td>13/02/2020</td>\n",
       "      <td>0</td>\n",
       "      <td>1</td>\n",
       "      <td>1300</td>\n",
       "      <td>0</td>\n",
       "      <td>120</td>\n",
       "      <td>1</td>\n",
       "      <td>0</td>\n",
       "      <td>1</td>\n",
       "    </tr>\n",
       "    <tr>\n",
       "      <th>2</th>\n",
       "      <td>13/02/2020</td>\n",
       "      <td>0</td>\n",
       "      <td>2</td>\n",
       "      <td>1000</td>\n",
       "      <td>1</td>\n",
       "      <td>60</td>\n",
       "      <td>2</td>\n",
       "      <td>0</td>\n",
       "      <td>0</td>\n",
       "    </tr>\n",
       "    <tr>\n",
       "      <th>3</th>\n",
       "      <td>13/02/2020</td>\n",
       "      <td>0</td>\n",
       "      <td>3</td>\n",
       "      <td>2700</td>\n",
       "      <td>2</td>\n",
       "      <td>180</td>\n",
       "      <td>3</td>\n",
       "      <td>0</td>\n",
       "      <td>0</td>\n",
       "    </tr>\n",
       "    <tr>\n",
       "      <th>4</th>\n",
       "      <td>13/02/2020</td>\n",
       "      <td>0</td>\n",
       "      <td>4</td>\n",
       "      <td>3900</td>\n",
       "      <td>2</td>\n",
       "      <td>300</td>\n",
       "      <td>4</td>\n",
       "      <td>0</td>\n",
       "      <td>2</td>\n",
       "    </tr>\n",
       "  </tbody>\n",
       "</table>\n",
       "</div>"
      ],
      "text/plain": [
       "         Date  Day  Destination_Location  Fastest_Route_Distance  \\\n",
       "0  13/02/2020    0                     0                    1000   \n",
       "1  13/02/2020    0                     1                    1300   \n",
       "2  13/02/2020    0                     2                    1000   \n",
       "3  13/02/2020    0                     3                    2700   \n",
       "4  13/02/2020    0                     4                    3900   \n",
       "\n",
       "   Fastest_Route_Name  Fastest_Route_Time  Starting_Location  Weather  \\\n",
       "0                   0                  60                  0        0   \n",
       "1                   0                 120                  1        0   \n",
       "2                   1                  60                  2        0   \n",
       "3                   2                 180                  3        0   \n",
       "4                   2                 300                  4        0   \n",
       "\n",
       "   Data_prediction  \n",
       "0                0  \n",
       "1                1  \n",
       "2                0  \n",
       "3                0  \n",
       "4                2  "
      ]
     },
     "execution_count": 243,
     "metadata": {},
     "output_type": "execute_result"
    }
   ],
   "source": [
    "data.head()"
   ]
  },
  {
   "cell_type": "code",
   "execution_count": 244,
   "id": "f607122a",
   "metadata": {},
   "outputs": [
    {
     "data": {
      "text/plain": [
       "<AxesSubplot:>"
      ]
     },
     "execution_count": 244,
     "metadata": {},
     "output_type": "execute_result"
    },
    {
     "data": {
      "image/png": "[encoded data removed]",
      "text/plain": [
       "<Figure size 720x576 with 2 Axes>"
      ]
     },
     "metadata": {
      "needs_background": "light"
     },
     "output_type": "display_data"
    }
   ],
   "source": [
    "corrmat=data.corr()\n",
    "sns.heatmap(corrmat,annot=True,square=True,cmap=\"inferno\")"
   ]
  },
  {
   "cell_type": "code",
   "execution_count": 245,
   "id": "55db5525",
   "metadata": {},
   "outputs": [],
   "source": [
    "data=data.drop([\"Date\",\"Day\"],1)"
   ]
  },
  {
   "cell_type": "code",
   "execution_count": 246,
   "id": "d7b03247",
   "metadata": {},
   "outputs": [],
   "source": [
    "from sklearn.linear_model import LogisticRegression\n",
    "X=data.drop(\"Data_prediction\",1)\n",
    "y=data[[\"Data_prediction\"]]\n",
    "X_train,X_test,y_train,y_test=train_test_split(X,y,test_size=0.3,random_state=1)"
   ]
  },
  {
   "cell_type": "code",
   "execution_count": 247,
   "id": "646afaa2",
   "metadata": {},
   "outputs": [
    {
     "data": {
      "text/html": [
       "<div>\n",
       "<style scoped>\n",
       "    .dataframe tbody tr th:only-of-type {\n",
       "        vertical-align: middle;\n",
       "    }\n",
       "\n",
       "    .dataframe tbody tr th {\n",
       "        vertical-align: top;\n",
       "    }\n",
       "\n",
       "    .dataframe thead th {\n",
       "        text-align: right;\n",
       "    }\n",
       "</style>\n",
       "<table border=\"1\" class=\"dataframe\">\n",
       "  <thead>\n",
       "    <tr style=\"text-align: right;\">\n",
       "      <th></th>\n",
       "      <th>Destination_Location</th>\n",
       "      <th>Fastest_Route_Distance</th>\n",
       "      <th>Fastest_Route_Name</th>\n",
       "      <th>Fastest_Route_Time</th>\n",
       "      <th>Starting_Location</th>\n",
       "      <th>Weather</th>\n",
       "      <th>Data_prediction</th>\n",
       "    </tr>\n",
       "  </thead>\n",
       "  <tbody>\n",
       "    <tr>\n",
       "      <th>4923</th>\n",
       "      <td>9</td>\n",
       "      <td>1400</td>\n",
       "      <td>4</td>\n",
       "      <td>120</td>\n",
       "      <td>9</td>\n",
       "      <td>5</td>\n",
       "      <td>0</td>\n",
       "    </tr>\n",
       "  </tbody>\n",
       "</table>\n",
       "</div>"
      ],
      "text/plain": [
       "      Destination_Location  Fastest_Route_Distance  Fastest_Route_Name  \\\n",
       "4923                     9                    1400                   4   \n",
       "\n",
       "      Fastest_Route_Time  Starting_Location  Weather  Data_prediction  \n",
       "4923                 120                  9        5                0  "
      ]
     },
     "execution_count": 247,
     "metadata": {},
     "output_type": "execute_result"
    }
   ],
   "source": [
    "data.sample()"
   ]
  },
  {
   "cell_type": "code",
   "execution_count": 248,
   "id": "80ba8aaa",
   "metadata": {},
   "outputs": [
    {
     "name": "stdout",
     "output_type": "stream",
     "text": [
      "traffic is highly congested\n"
     ]
    }
   ],
   "source": [
    "model=LogisticRegression(random_state=1,max_iter=100000,solver=\"lbfgs\")\n",
    "model.fit(X_train,y_train.values.ravel())\n",
    "LogisticRegression(random_state=1,max_iter=100000)\n",
    "X_new=np.array([[8,1000,4,180,8,1]])\n",
    "pred_traf=model.predict(X_new)\n",
    "if pred_traf==0:\n",
    "    pred_traf=\"traffic is smooth\"\n",
    "elif pred_traf==1:\n",
    "    pred_traf=\"traffic is highly congested\"\n",
    "elif pred_traf==2:\n",
    "    pred_traf=\"traffic is slightly congested\"\n",
    "elif pred_traf==3:\n",
    "    pred_traf=\"traffic is congested\"\n",
    "elif pred_traf==4:\n",
    "    pred_traf=\"traffic is blockage\"  \n",
    "print(pred_traf)"
   ]
  },
  {
   "cell_type": "code",
   "execution_count": null,
   "id": "2f3f88d3",
   "metadata": {},
   "outputs": [],
   "source": []
  }
 ],
 "metadata": {
  "kernelspec": {
   "display_name": "Python 3 (ipykernel)",
   "language": "python",
   "name": "python3"
  },
  "language_info": {
   "codemirror_mode": {
    "name": "ipython",
    "version": 3
   },
   "file_extension": ".py",
   "mimetype": "text/x-python",
   "name": "python",
   "nbconvert_exporter": "python",
   "pygments_lexer": "ipython3",
   "version": "3.9.12"
  }
 },
 "nbformat": 4,
 "nbformat_minor": 5
}
